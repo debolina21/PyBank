{
 "cells": [
  {
   "cell_type": "code",
   "execution_count": 104,
   "id": "ed2bb31b-f8a8-4fb3-80bf-7d068d2eaf04",
   "metadata": {},
   "outputs": [
    {
     "name": "stdout",
     "output_type": "stream",
     "text": [
      "Financial Analysis\n",
      "---------------------\n",
      "Total Months: 86\n",
      "Total: $38382578\n",
      "Average Change: $-2315.12\n",
      "Greatest Increase in Profits: Feb-2012 ($1926159)\n",
      "Greatest Decrease in Profits: Sep-2013 ($-2196167)\n"
     ]
    }
   ],
   "source": [
    "#Importing the necessary modules/libraries\n",
    "import os\n",
    "import csv\n",
    "\n",
    "#Creating an object out of the CSV file\n",
    "budget_data = os.path.join(\"../PyBank/budget_data.csv\")\n",
    "\n",
    "total_months = 0\n",
    "total_pl = 0\n",
    "value = 0\n",
    "change = 0\n",
    "dates = []\n",
    "profits = []\n",
    "\n",
    "#Opening and reading the CSV file\n",
    "with open(budget_data, newline = \"\") as csvfile:\n",
    "    csvreader = csv.reader(csvfile, delimiter = \",\")\n",
    "\n",
    "    #Reading the header row\n",
    "    csv_header = next(csvreader)\n",
    "\n",
    "    #Reading the first row (so that we track the changes properly)\n",
    "    first_row = next(csvreader)\n",
    "    total_months += 1\n",
    "    total_pl += int(first_row[1])\n",
    "    value = int(first_row[1])\n",
    "    \n",
    "    #Going through each row of data after the header & first row \n",
    "    for row in csvreader:\n",
    "        # Keeping track of the dates\n",
    "        dates.append(row[0])\n",
    "        \n",
    "        # Calculate the change, then add it to list of changes\n",
    "        change = int(row[1])-value\n",
    "        profits.append(change)\n",
    "        value = int(row[1])\n",
    "        \n",
    "        #Total number of months\n",
    "        total_months += 1\n",
    "\n",
    "        #Total net amount of \"Profit/Losses over entire period\"\n",
    "        total_pl = total_pl + int(row[1])\n",
    "\n",
    "    #Greatest increase in profits\n",
    "    greatest_increase = max(profits)\n",
    "    greatest_index = profits.index(greatest_increase)\n",
    "    greatest_date = dates[greatest_index]\n",
    "\n",
    "    #Greatest decrease (lowest increase) in profits \n",
    "    greatest_decrease = min(profits)\n",
    "    worst_index = profits.index(greatest_decrease)\n",
    "    worst_date = dates[worst_index]\n",
    "\n",
    "    #Average change in \"Profit/Losses between months over entire period\"\n",
    "    avg_change = sum(profits)/len(profits)\n",
    "    \n",
    "\n",
    "#Displaying information\n",
    "print(\"Financial Analysis\")\n",
    "print(\"---------------------\")\n",
    "print(f\"Total Months: {str(total_months)}\")\n",
    "print(f\"Total: ${str(total_pl)}\")\n",
    "print(f\"Average Change: ${str(round(avg_change,2))}\")\n",
    "print(f\"Greatest Increase in Profits: {greatest_date} (${str(greatest_increase)})\")\n",
    "print(f\"Greatest Decrease in Profits: {worst_date} (${str(greatest_decrease)})\")\n"
   ]
  },
  {
   "cell_type": "code",
   "execution_count": null,
   "id": "f3cb6b47-e88d-4a66-9425-c876934a7b5b",
   "metadata": {},
   "outputs": [],
   "source": []
  },
  {
   "cell_type": "code",
   "execution_count": null,
   "id": "62bf1c0b-1e3b-41b0-a9c5-5eadaa39ceec",
   "metadata": {},
   "outputs": [],
   "source": []
  }
 ],
 "metadata": {
  "kernelspec": {
   "display_name": "Python 3",
   "language": "python",
   "name": "python3"
  },
  "language_info": {
   "codemirror_mode": {
    "name": "ipython",
    "version": 3
   },
   "file_extension": ".py",
   "mimetype": "text/x-python",
   "name": "python",
   "nbconvert_exporter": "python",
   "pygments_lexer": "ipython3",
   "version": "3.8.8"
  }
 },
 "nbformat": 4,
 "nbformat_minor": 5
}
